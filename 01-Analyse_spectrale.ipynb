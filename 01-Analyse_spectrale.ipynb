{
 "cells": [
  {
   "cell_type": "markdown",
   "id": "4ae2b43e",
   "metadata": {},
   "source": [
    "V1.2 - 2023-07-22 - JLC <br>\n",
    "V1.3 - 2024-04-21 - JLC correction typos + Simplifications."
   ]
  },
  {
   "cell_type": "markdown",
   "id": "3e2f4c66",
   "metadata": {},
   "source": [
    "# EEAI-Capteurs\n",
    "\n",
    "# Transformée de Fourier discrète <a name=\"top\"></a>\n",
    "\n",
    "## [ 1 - Présentation du TP](#1)\n",
    "## [ 2 - Calculs Python avec numpy et numpy.fft](#2)\n",
    "### [2.1 Calcul d'un signal discrétisé simple : signal sinusoïdal ](#2.1)\n",
    "### [2.2 Calcul d'un signal carré](#2.2)\n",
    "## [ 3 - Théorème de Schanon et repliement spectral¶](#3)\n",
    "<br><br>"
   ]
  },
  {
   "cell_type": "markdown",
   "id": "09c2c5b7",
   "metadata": {},
   "source": [
    "## 1 $-$ Présentation du TP <a name=\"1\"></a>\n",
    "\n",
    "Compétences visées :\n",
    "- Savoir utiliser le module `numpy` pour calculer numériquement un signal discrétisé et tracer son allure temporelle.\n",
    "- Savoir utiliser la fonction `rfft` du module Python `numpy.fft` pour calculer le spectre d'amplitude d'un signal discrétisé et tracer son pectre d'amplitude.\n",
    "- Savoir interpréter le spectre de raies d'un signal discrétisé.\n",
    "- Connaître le théorème de Schannon et ses conséqunces sur le repliement spectral d'un signal échantillonné."
   ]
  },
  {
   "cell_type": "markdown",
   "id": "995e5bad",
   "metadata": {},
   "source": [
    "## 2 $-$ Calculs Python avec `numpy` et `numpy.fft` <a name=\"2\"></a>"
   ]
  },
  {
   "cell_type": "code",
   "execution_count": null,
   "id": "e7d4bd27",
   "metadata": {},
   "outputs": [],
   "source": [
    "import numpy as np\n",
    "from math import pi, sqrt\n",
    "import matplotlib.pyplot as plt"
   ]
  },
  {
   "cell_type": "markdown",
   "id": "b877f3c0",
   "metadata": {},
   "source": [
    "La cellule ci-dessous permet à **matplotlib** de réaliser des courbes interactives dans le notebook.<br>\n",
    "$\\leadsto$ En cas d'erreur à l'exécution de la cellule vous pouvez remplacer **notebook** par **inline**."
   ]
  },
  {
   "cell_type": "code",
   "execution_count": null,
   "id": "5258f297",
   "metadata": {
    "tags": []
   },
   "outputs": [],
   "source": [
    "%matplotlib inline"
   ]
  },
  {
   "cell_type": "markdown",
   "id": "0250825c",
   "metadata": {},
   "source": [
    "### 2.1 Calcul d'un signal discrétisé simple : signal sinusoïdal <a name=\"2.1\"></a>"
   ]
  },
  {
   "cell_type": "markdown",
   "id": "202a155b",
   "metadata": {},
   "source": [
    "Soit le signal $x$ defini par $x: t \\longmapsto \\displaystyle{2.5 \\sin\\left(\\frac{2\\pi t}{T}\\right)}$, de période $T$ et d'amplitude 2.5, défini à l'aide de la fonction `sin` du module *numpy* :"
   ]
  },
  {
   "cell_type": "code",
   "execution_count": null,
   "id": "817e4a2e",
   "metadata": {},
   "outputs": [],
   "source": [
    "def x(t, T):\n",
    "    return 2.5*np.sin(2*pi*t/T)"
   ]
  },
  {
   "cell_type": "markdown",
   "id": "4eeb2fec",
   "metadata": {},
   "source": [
    "<span style=\"color:green\"> $\\leadsto$  Grâce à la *vectorisation* de la fonction `np.sin`, le paramètre `t` peut être un simple scalaire ou un tableau `np.ndarray` de valeurs temporelles.</span>"
   ]
  },
  {
   "cell_type": "markdown",
   "id": "46f5cbfc",
   "metadata": {},
   "source": [
    "##### Paramètres du signal sinusoïdal\n",
    "On définit :\n",
    "- `Fs`, la fréquence du signal sinus, égale à 125 Hz.\n",
    "- `Ts`, la période correspondante."
   ]
  },
  {
   "cell_type": "code",
   "execution_count": null,
   "id": "2b4d8a3e",
   "metadata": {},
   "outputs": [],
   "source": [
    "Fs = 125  # fréquence signal en Hertz\n",
    "Ts = 1/Fs # période signal\n",
    "print(f\"Féquence Fs={Fs} Hz, période Ts={Ts*1000:.2f} ms\")"
   ]
  },
  {
   "cell_type": "markdown",
   "id": "594450e2",
   "metadata": {},
   "source": [
    "[top](#top)"
   ]
  },
  {
   "cell_type": "markdown",
   "id": "f61cf949",
   "metadata": {},
   "source": [
    "### a - Échantillonnage sur un nombre entier de périodes <a name=\"3.2-a\"></a>"
   ]
  },
  {
   "cell_type": "markdown",
   "id": "24f49908",
   "metadata": {},
   "source": [
    "#### Définition des paramètres d'échantillonnage :\n",
    "- <span style=\"color:blue\">Définir `Fe`, la fréquence d'échantilonnage égale à 1000 Hz.</span>\n",
    "- <span style=\"color:blue\">Calculer `Te`, la période d'échantillonnage correspondante.</span>\n",
    "- <span style=\"color:blue\">Définir `D`, la durée d'échantilonnage ègale à $2\\,T_s$.</span>\n",
    "- <span style=\"color:blue\">Faire afficher `Fe` en Hertz, `Te` en milli-seconde et `D` en seconde.</span>"
   ]
  },
  {
   "cell_type": "code",
   "execution_count": null,
   "id": "09069e35",
   "metadata": {},
   "outputs": [],
   "source": []
  },
  {
   "cell_type": "markdown",
   "id": "584bac74",
   "metadata": {},
   "source": [
    "####  Définition du vecteur des instants d'échantillonnage \n",
    "- <span style=\"color:blue\">Définir `t_ech`, le vecteur des instants d'échantillonnage allant de 0 à `D` **exclu**, par pas de `Te` (*indications* : utiliser [np.arange](https://numpy.org/doc/stable/reference/generated/numpy.arange.html)).</span>\n",
    "- <span style=\"color:blue\">Définir `N`, le nombre d'éléments de `t_ech`.</span>\n",
    "- <span style=\"color:blue\">Faire afficher le vecteur `t_ech` et `N`.</span>"
   ]
  },
  {
   "cell_type": "code",
   "execution_count": null,
   "id": "37fd8552",
   "metadata": {},
   "outputs": [],
   "source": []
  },
  {
   "cell_type": "markdown",
   "id": "4645d0b3",
   "metadata": {},
   "source": [
    "<span style=\"color:green\"> $\\leadsto$ les temps d'échantillonnage doivent aller jusqu'à 15 ms, et le vecteur `t_ech` doit avoir 16 éléments.</span> "
   ]
  },
  {
   "cell_type": "markdown",
   "id": "b6bfd0f1",
   "metadata": {},
   "source": [
    "[top](#top)"
   ]
  },
  {
   "cell_type": "markdown",
   "id": "32cc66bb",
   "metadata": {},
   "source": [
    "### b - Allure temporelle du signal échantillonné <a name=\"3.2-b\"></a>\n",
    "\n",
    "#### Calcul du signal échantillonné"
   ]
  },
  {
   "cell_type": "markdown",
   "id": "176631eb",
   "metadata": {},
   "source": [
    "- <span style=\"color:blue\">Calculer `x_ech` le vecteur des valeurs du signal `x` pour chaque instant d'échantillonnage du vecteur `t_ech`.</span>"
   ]
  },
  {
   "cell_type": "code",
   "execution_count": null,
   "id": "bc767294",
   "metadata": {},
   "outputs": [],
   "source": []
  },
  {
   "cell_type": "markdown",
   "id": "efdebe2b",
   "metadata": {},
   "source": [
    "#### Affichage de l'allure temporelle\n",
    "\n",
    "La fonction `plot_sig_ech` du module `tools.utils` utilse la fonction [stem](https://matplotlib.org/stable/api/_as_gen/matplotlib.pyplot.stem.html) du module `matplolib` pour tracer le signal échantillonné sous la forme de barres verticales."
   ]
  },
  {
   "cell_type": "code",
   "execution_count": null,
   "id": "03a5f32e",
   "metadata": {
    "tags": []
   },
   "outputs": [],
   "source": [
    "from tools.utils import plot_sig_ech\n",
    "help(plot_sig_ech)"
   ]
  },
  {
   "cell_type": "markdown",
   "id": "9648de2c",
   "metadata": {},
   "source": [
    "- <span style=\"color:blue\">Utiliser la fonction `plot_sig_ech` pour tracer le signal échantillonné</span>"
   ]
  },
  {
   "cell_type": "code",
   "execution_count": null,
   "id": "f433a1aa",
   "metadata": {
    "tags": []
   },
   "outputs": [],
   "source": []
  },
  {
   "cell_type": "markdown",
   "id": "2f11d87a",
   "metadata": {},
   "source": [
    "[top](#top)"
   ]
  },
  {
   "cell_type": "markdown",
   "id": "39aa7915",
   "metadata": {},
   "source": [
    "### c - Domaine fréquentiel : FFT (*Fast Fourier Transform*) et spectre du signal"
   ]
  },
  {
   "cell_type": "markdown",
   "id": "d1afb648",
   "metadata": {},
   "source": [
    "- <span style=\"color:blue\">Utiliser la fonction `rfft` du module `numpy.fft` pour calculer `X`, la FFT du signal `x` <br>\n",
    "(si besoin, voir https://numpy.org/doc/stable/reference/generated/numpy.fft.rfft.html)</span>\n",
    "- <span style=\"color:blue\">Calculer le **spectre d'amplitude** `A` égal au module des éléments de `X` multiplié par 2 et divisé par $N$ ($N$ : nbre d'échantillons temporels).<br>\n",
    "(Indication : la fonction [np.absolute](https://numpy.org/doc/stable/reference/generated/numpy.absolute.html) permet de calculer le vecteur des modules des éléments d'un vecteur complexe (*element wise*))</span>\n",
    "- <span style=\"color:blue\">Faire afficher les valeurs de A.</span>"
   ]
  },
  {
   "cell_type": "code",
   "execution_count": null,
   "id": "1a55e1e1",
   "metadata": {
    "tags": []
   },
   "outputs": [],
   "source": []
  },
  {
   "cell_type": "markdown",
   "id": "1cdc77d3",
   "metadata": {},
   "source": [
    "- <span style=\"color:blue\">combien y-a-t-il d'éléments dans la FFT de `x` ? Pouvez-vous l'expliquer ?</span>\n",
    "- <span style=\"color:blue\">que représente A[0] ?</span>"
   ]
  },
  {
   "cell_type": "markdown",
   "id": "a4378f06",
   "metadata": {},
   "source": [
    "[*Répondre ici...*]<br>\n",
    "\n"
   ]
  },
  {
   "cell_type": "markdown",
   "id": "90671380",
   "metadata": {},
   "source": [
    "- <span style=\"color:blue\">Calculer la résolution en fréquence `delta_f` ($\\Delta F = F_e / N$) et vérifier que sa valeur est 62.5 Hz.</span>"
   ]
  },
  {
   "cell_type": "code",
   "execution_count": null,
   "id": "ba844848",
   "metadata": {},
   "outputs": [],
   "source": []
  },
  {
   "cell_type": "markdown",
   "id": "c1ecf594",
   "metadata": {},
   "source": [
    "- <span style=\"color:blue\">Calculer `f_ech`, le vecteur des fréquences discrètes de la FFT en utilisant [np.arange](nmpy.org/doc/stable/reference/generated/numpy.arange.html), `len(X)` et `delta_f`.</span>\n",
    "- <span style=\"color:blue\">Afficher `f_ech`, et vérifier que sa dernière valeur est bien `Fe/2`</span>"
   ]
  },
  {
   "cell_type": "code",
   "execution_count": null,
   "id": "69c6eadb",
   "metadata": {},
   "outputs": [],
   "source": []
  },
  {
   "cell_type": "markdown",
   "id": "85b5bb25",
   "metadata": {},
   "source": [
    "### d - Tracé du spectre d'amplitude\n",
    "\n",
    "La fonction `plot_spectre_amplitude` du module `tools.utils` utilse la fonction [stem](https://matplotlib.org/stable/api/_as_gen/matplotlib.pyplot.stem.html) du module `matplolib` pour tracer le spectre d'amplitude du signal échantillonné sous la forme de barres verticales."
   ]
  },
  {
   "cell_type": "code",
   "execution_count": null,
   "id": "66b295b5",
   "metadata": {
    "tags": []
   },
   "outputs": [],
   "source": [
    "from tools.utils import plot_spectre_amplitude\n",
    "help(plot_spectre_amplitude)"
   ]
  },
  {
   "cell_type": "markdown",
   "id": "b395d17a",
   "metadata": {},
   "source": [
    "- <span style=\"color:blue\">Tracer le spectre d'amplitude du signal echnatillonné.</span>"
   ]
  },
  {
   "cell_type": "code",
   "execution_count": null,
   "id": "0895e866",
   "metadata": {
    "tags": []
   },
   "outputs": [],
   "source": []
  },
  {
   "cell_type": "markdown",
   "id": "972c4ae9",
   "metadata": {},
   "source": [
    "- <span style=\"color:blue\">En utilisant la méthode `argmax` du vecteur `A`, faire afficher la fréquence et la valeur du plus grand pic du spectre</span>"
   ]
  },
  {
   "cell_type": "code",
   "execution_count": null,
   "id": "5f8bcd05",
   "metadata": {
    "tags": []
   },
   "outputs": [],
   "source": []
  },
  {
   "cell_type": "markdown",
   "id": "2108b2d1",
   "metadata": {},
   "source": [
    "- <span style=\"color:blue\">Comparer le spectre du signal échantillonné au spectre théorique ...</span>"
   ]
  },
  {
   "cell_type": "markdown",
   "id": "7906c3fa",
   "metadata": {},
   "source": [
    "[*Répondre ici...*]<br>\n"
   ]
  },
  {
   "cell_type": "markdown",
   "id": "65ed0d49",
   "metadata": {},
   "source": [
    "[top](#top)"
   ]
  },
  {
   "cell_type": "markdown",
   "id": "c249bae6",
   "metadata": {},
   "source": [
    "### e - Échantillonnage sur une durée quelconque"
   ]
  },
  {
   "cell_type": "markdown",
   "id": "bdb449f0",
   "metadata": {},
   "source": [
    "- <span style=\"color:blue\">Refaire les calculs, affichages et tracés précédents en modifiant la durée d'échantillonnage pour avoir un nombre __non entier__ de périodes du signal, par exemple : $D = 3.3\\,T_s$.</span>\n",
    "\n",
    "Vous pouvez utiliser la fonction `process_periodic_signal` du module `tools.utils` pour refaire l'ensemble des calculs et affichages précédents, en passant les paramètres indiqués par l'aide ci-dessous:"
   ]
  },
  {
   "cell_type": "code",
   "execution_count": null,
   "id": "2b87bcd1",
   "metadata": {},
   "outputs": [],
   "source": [
    "from tools.utils import process_periodic_signal\n",
    "help(process_periodic_signal)"
   ]
  },
  {
   "cell_type": "markdown",
   "id": "1f688a59",
   "metadata": {},
   "source": [
    "_indication_ : si vous n'utilisez pas les données renvoyées par la fonction `process_periodic_signal`, vous pouvez mettre un caractère `;` à la fin de la ligne d'appel à la fonction pour éviter l'affichage des données renvoyées."
   ]
  },
  {
   "cell_type": "code",
   "execution_count": null,
   "id": "d6a2f32e",
   "metadata": {},
   "outputs": [],
   "source": []
  },
  {
   "cell_type": "markdown",
   "id": "d7ae8d8d",
   "metadata": {},
   "source": [
    "- <span style=\"color:blue\">Que constatez-vous ?</span>"
   ]
  },
  {
   "cell_type": "markdown",
   "id": "513ec4a2",
   "metadata": {},
   "source": [
    "[*Répondre ici...*]<br>\n"
   ]
  },
  {
   "cell_type": "markdown",
   "id": "001bb828",
   "metadata": {},
   "source": [
    "- <span style=\"color:blue\">En utilisant les relations $\\Delta F = F_e/N$, et $D = N T_e = N/F_e$ choisir une durée $D$ pour avoir un pas en fréquence $\\Delta f$ de 5 Hz : tracer le spectre d'amplitude avec la focntion `process_periodic_signal` en désactivant le tracé de l'allure temporelle.</span>"
   ]
  },
  {
   "cell_type": "code",
   "execution_count": null,
   "id": "9c38c858",
   "metadata": {},
   "outputs": [],
   "source": []
  },
  {
   "cell_type": "markdown",
   "id": "dd010257",
   "metadata": {},
   "source": [
    "- <span style=\"color:blue\">Refaire le même travail en choisissant une durée d'échantillonage $D = 11.6\\,T_s$ \n",
    "    (désactiver le tracé de l'allure temporelle).<br>\n",
    " Nommer `t_ech, x_ech, f_ech, A` les données renvoyées par la fonction.</span>"
   ]
  },
  {
   "cell_type": "code",
   "execution_count": null,
   "id": "eff9ac2b",
   "metadata": {},
   "outputs": [],
   "source": []
  },
  {
   "cell_type": "markdown",
   "id": "80a12692",
   "metadata": {},
   "source": [
    "- <span style=\"color:blue\">Vérifier que l'on peut retrouver l'amplitude du signal en calculant $\\displaystyle{\\sqrt{\\sum_i{A_i^2}}}$."
   ]
  },
  {
   "cell_type": "code",
   "execution_count": null,
   "id": "ab896205",
   "metadata": {},
   "outputs": [],
   "source": []
  },
  {
   "cell_type": "markdown",
   "id": "17f08cfa",
   "metadata": {},
   "source": [
    "[top](#top)"
   ]
  },
  {
   "cell_type": "markdown",
   "id": "833e9f13",
   "metadata": {},
   "source": [
    "### 2.2 Calcul d'un signal discrétisé simple : signal carré <a name=\"2.2\"> </a>"
   ]
  },
  {
   "cell_type": "markdown",
   "id": "d16561bd",
   "metadata": {
    "tags": []
   },
   "source": [
    "On s'intéresse maintenant à un signal carré que l'on définiera à partir de la fonction `square` du module `scipy.signal`.<br>\n",
    "Si le module `scipy` n'est pas installé dans votre environnement Python **minfo** vous pouvez l'installer avec la cellule ci-dessous :"
   ]
  },
  {
   "cell_type": "code",
   "execution_count": null,
   "id": "cea40cf4",
   "metadata": {
    "tags": []
   },
   "outputs": [],
   "source": [
    "!pip install scipy"
   ]
  },
  {
   "cell_type": "markdown",
   "id": "7e474b45",
   "metadata": {},
   "source": [
    "On garde la même fréquence d'échantillonnage que précédement :"
   ]
  },
  {
   "cell_type": "code",
   "execution_count": null,
   "id": "5e39d518",
   "metadata": {
    "tags": []
   },
   "outputs": [],
   "source": [
    "print(f\"Fréquence éch. Fe = {Fe} Hz, période Te = {Te*1000} ms\")"
   ]
  },
  {
   "cell_type": "markdown",
   "id": "ecef3f8a",
   "metadata": {},
   "source": [
    "#### Définition du signal carré\n",
    "La fonction [square](https://docs.scipy.org/doc/scipy-0.14.0/reference/generated/scipy.signal.square.html)\n",
    "du module `scipy.signal` définit un signal carré périodique de période égale à $2\\pi$.<br>\n",
    "Pour en faire un signal carré de fréquence $F_c$ (période $T_c = 1/F_c$), il faut multiplier le temps par $2\\pi/ T_c$."
   ]
  },
  {
   "cell_type": "markdown",
   "id": "ac88d00e",
   "metadata": {},
   "source": [
    "- <span style=\"color:blue\">Définir la fonction `carre` d'arguments `t` (vecteur de temps discrets) et `T` (période du signal) qui renvoie `square(2*pi*t/T)`.</span>\n",
    "- <span style=\"color:blue\">Définir `Fc`, la fréquence du signal carré, égale à 14 Hz et `Tc`, la période correspondante.</span>\n",
    "- <span style=\"color:blue\">Faire afficher `Fc`en Hertz et `Tc` en milli-seconde.</span>"
   ]
  },
  {
   "cell_type": "code",
   "execution_count": null,
   "id": "af97d27e",
   "metadata": {},
   "outputs": [],
   "source": []
  },
  {
   "cell_type": "markdown",
   "id": "051244b6",
   "metadata": {},
   "source": [
    "- <span style=\"color:blue\">Faire tracer l'allure temporelle et le spectre d'amplitude avec la fonction `process_periodic_signal` en réglant la durée d'échantillonnage pour avoir une résolution fréquentielle de 1 Hz et en demandant de lister les 10 premiers pics du spectre.</span>"
   ]
  },
  {
   "cell_type": "code",
   "execution_count": null,
   "id": "5e553539",
   "metadata": {},
   "outputs": [],
   "source": []
  },
  {
   "cell_type": "markdown",
   "id": "d4d8f0cd",
   "metadata": {},
   "source": [
    "- <span style=\"color:blue\">Calculer et afficher les ampltitudes théoriques des 10 premières raies du spectre d'amplitude<br>\n",
    "    (utiliser une __f_string__ Python pour maîtriser le formatage des nombres affichés).</span>"
   ]
  },
  {
   "cell_type": "code",
   "execution_count": null,
   "id": "39e46d84",
   "metadata": {},
   "outputs": [],
   "source": []
  },
  {
   "cell_type": "markdown",
   "id": "c6d3678c",
   "metadata": {},
   "source": [
    "- <span style=\"color:blue\">Que constatez-vous ?</span>"
   ]
  },
  {
   "cell_type": "markdown",
   "id": "81a5557c",
   "metadata": {},
   "source": [
    "[*Répondre ici...*]<br>\n",
    " "
   ]
  },
  {
   "cell_type": "markdown",
   "id": "468be8e8",
   "metadata": {},
   "source": [
    "[top](#top)"
   ]
  },
  {
   "cell_type": "markdown",
   "id": "8dbe7d0e",
   "metadata": {},
   "source": [
    "## 3 $-$ Théorème de Schannon et repliement spectral <a name=\"3\"></a>"
   ]
  },
  {
   "cell_type": "markdown",
   "id": "5bbd6fdc",
   "metadata": {},
   "source": [
    "- <span style=\"color:blue\">Que dit le théorème de schannon ?"
   ]
  },
  {
   "cell_type": "markdown",
   "id": "ec3cf56e",
   "metadata": {},
   "source": [
    "[*Répondre ici...*]<br>\n"
   ]
  },
  {
   "cell_type": "markdown",
   "id": "cb5ba232",
   "metadata": {},
   "source": [
    "- <span style=\"color:blue\">Pour illustrer le phénomène de **repliement spectral**, faire tracer avec la fonction `process_periodic_signal` le spectre d'amplitude du signal $ x: t \\longmapsto 2.5\\sin(2\\pi F_s t)$ (définit au paragraphe 2.1) échantillonné à $F_e = 1000$ Hz sur une durée $D = 1/10$ s, pour des valeurs de $F_s$ égales à 400, 600 700 et 800 Hz."
   ]
  },
  {
   "cell_type": "code",
   "execution_count": null,
   "id": "1b9de8ca",
   "metadata": {},
   "outputs": [],
   "source": []
  },
  {
   "cell_type": "markdown",
   "id": "ca81a397",
   "metadata": {},
   "source": [
    "- <span style=\"color:blue\">Qu'observe-t-on ?"
   ]
  },
  {
   "cell_type": "markdown",
   "id": "d72d0a00",
   "metadata": {},
   "source": [
    "[*Répondre ici...*]<br>\n"
   ]
  },
  {
   "cell_type": "markdown",
   "id": "bb633ec1",
   "metadata": {},
   "source": [
    "[top](#top)"
   ]
  },
  {
   "cell_type": "markdown",
   "id": "08e80570",
   "metadata": {},
   "source": [
    "###### "
   ]
  }
 ],
 "metadata": {
  "kernelspec": {
   "display_name": "Python 3 (ipykernel)",
   "language": "python",
   "name": "python3"
  },
  "language_info": {
   "codemirror_mode": {
    "name": "ipython",
    "version": 3
   },
   "file_extension": ".py",
   "mimetype": "text/x-python",
   "name": "python",
   "nbconvert_exporter": "python",
   "pygments_lexer": "ipython3",
   "version": "3.10.14"
  }
 },
 "nbformat": 4,
 "nbformat_minor": 5
}

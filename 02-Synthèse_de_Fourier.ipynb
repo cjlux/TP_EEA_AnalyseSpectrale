{
 "cells": [
  {
   "cell_type": "markdown",
   "id": "1986c188",
   "metadata": {},
   "source": [
    "V1.2 - 2023-11-10"
   ]
  },
  {
   "cell_type": "markdown",
   "id": "a5c8ab5e",
   "metadata": {},
   "source": [
    "# EEA - Analyse/Syntèse de Fourier <a name=\"top\"></a>\n",
    "\n",
    "## [1 $-$ Présentation du TP](#1)\n",
    "## [2 $-$ Écoute, visualisation et analyse de sons issus de fichiers WAV](#2)\n",
    "## [3 $-$ Création/modification de sons](#3)\n",
    "\n",
    "<br>"
   ]
  },
  {
   "cell_type": "code",
   "execution_count": null,
   "id": "e01c9fa9",
   "metadata": {},
   "outputs": [],
   "source": [
    "import os, sys\n",
    "import numpy as np\n",
    "from numpy.fft import rfft         # rfft : FFT d'un signal à valeurs réelles\n",
    "from math import pi\n",
    "import matplotlib.pyplot as plt"
   ]
  },
  {
   "cell_type": "code",
   "execution_count": null,
   "id": "afd15d53",
   "metadata": {},
   "outputs": [],
   "source": [
    "from tools.utils import plot_sig_ech, plot_spectre_amplitude"
   ]
  },
  {
   "cell_type": "markdown",
   "id": "be3a4a4a",
   "metadata": {},
   "source": [
    "La cellule ci-dessous permet à **matplotlib** de réaliser des tracés courbes interactifs incrustés dans le notebook.<br>\n",
    "$\\leadsto$ En cas d'erreur à l'exécution de la cellule vous pouvez remplacer **notebook** par **inline**."
   ]
  },
  {
   "cell_type": "code",
   "execution_count": null,
   "id": "73fa0944",
   "metadata": {},
   "outputs": [],
   "source": [
    "%matplotlib notebook"
   ]
  },
  {
   "cell_type": "markdown",
   "id": "e0bfcae3",
   "metadata": {},
   "source": [
    "## 1 $-$ Présentation du TP <a name=\"1\"></a>\n",
    "\n",
    "### Compétences visées :\n",
    "\n",
    "- Savoir manipuler un échantillon sonore sous la forme d'un tableau __ndarray__ des valeurs échantillonnées.\n",
    "- Savoir écrire un échantillon sonore dans un fichier WAV et le reproduire acoustiquement.\n",
    "- Connaître les caractéristiques acoustiques d'un son : hauteur, timbre et enveloppe.\n",
    "- Savoir mettre en oeuvre avec Python la synthèse de Fourier pour construire un son de hauter et de timbre donnés.\n",
    "\n",
    "### Modules spécifiques\n",
    "\n",
    "- Les échantillons sonores sont manipulés sous la forme de tableaux __ndarray__ du module __numpy__ contenant les valeurs échantillonnées du son.\n",
    "- On utilise le module __scipy.io.wavfile__ qui propose les fonctions `read` et `write` pour lire ou écrire un fichier WAV."
   ]
  },
  {
   "cell_type": "code",
   "execution_count": null,
   "id": "b86116de",
   "metadata": {},
   "outputs": [],
   "source": [
    "from scipy.io.wavfile import read as wav_read, write as wav_write"
   ]
  },
  {
   "cell_type": "markdown",
   "id": "7ae427dd",
   "metadata": {},
   "source": [
    "\n",
    "- Le contenu d'un fichier WAV est reproduit acoustiquement grâce aux fonctions du module __simpleaudio__.\n",
    "\n",
    "#### [Windows] : un ordinateur sous Windows il faut exécuter la cellule ci-dessous pour installer la version binaire du module __simpleaudio__ pour windows"
   ]
  },
  {
   "cell_type": "code",
   "execution_count": null,
   "id": "6fb1b93d",
   "metadata": {},
   "outputs": [],
   "source": [
    "!pip install --no-deps \"module-simpleaudio/simpleaudio-1.0.4-cp310-cp310-win_amd64.whl\""
   ]
  },
  {
   "cell_type": "markdown",
   "id": "19a7b398",
   "metadata": {},
   "source": [
    "#### [macOS/Linux] : avec un ordinateur sous macOs ou Linux il faut exécuter la cellule ci-dessous pour installer le module __simpleaudio__"
   ]
  },
  {
   "cell_type": "code",
   "execution_count": null,
   "id": "88c96a1f",
   "metadata": {},
   "outputs": [],
   "source": [
    "!pip install simpleaudio"
   ]
  },
  {
   "cell_type": "markdown",
   "id": "f81519c1",
   "metadata": {},
   "source": [
    "### Fonction utile au TP\n",
    "\n",
    "La cellule ci-dessous définit la fonction `play` qui prend en argument un nom de fichier WAV et le joue sur la carte son de ton ordinateur en utilisant des fonctions du module __simpleaudio__.<br>\n",
    "Si le module Python __simpleaudio__ est bien installé dans ton EVP __minfo__ la cellule suivante ne doit pas générer d'erreur : "
   ]
  },
  {
   "cell_type": "code",
   "execution_count": null,
   "id": "be0bbf68",
   "metadata": {},
   "outputs": [],
   "source": [
    "import simpleaudio as sa\n",
    "\n",
    "def play(WAV_file):\n",
    "    '''\n",
    "    Plays the sound of the given WAV file.\n",
    "    '''\n",
    "    wave_obj = sa.WaveObject.from_wave_file(WAV_file)\n",
    "    play_obj = wave_obj.play()\n",
    "    play_obj.wait_done()  # Wait until sound has finished playing\n"
   ]
  },
  {
   "cell_type": "markdown",
   "id": "41fffe25",
   "metadata": {},
   "source": [
    "[top](#top)"
   ]
  },
  {
   "cell_type": "markdown",
   "id": "617eae4a",
   "metadata": {},
   "source": [
    "## 2 $-$ Écoute, visualisation et analyse de sons issus de fichiers WAV<a name=\"2\"></a>"
   ]
  },
  {
   "cell_type": "markdown",
   "id": "8b113567",
   "metadata": {},
   "source": [
    "### 2.1 $-$  Écoute"
   ]
  },
  {
   "cell_type": "markdown",
   "id": "fd8269e2",
   "metadata": {},
   "source": [
    "<span style=\"color:Green\">Utiliser la fonction `play` pour écouter les fichiers du dossier WAV mentionnés dans la liste `liste_WAV` ci-dessous, qui contiennent chacun un enregistrement de la note __A4__  (note _La_ à 440 Hz) produit par un piano et un clavecin :</span>"
   ]
  },
  {
   "cell_type": "code",
   "execution_count": null,
   "id": "c0d7e99d",
   "metadata": {},
   "outputs": [],
   "source": [
    "help(play)"
   ]
  },
  {
   "cell_type": "code",
   "execution_count": null,
   "id": "1249d0fe",
   "metadata": {},
   "outputs": [],
   "source": [
    "liste_WAV = ['WAV/' + f for f in os.listdir('WAV') if f.upper().startswith(\"A4\") and f.upper().endswith(\"WAV\")]\n",
    "print(liste_WAV)"
   ]
  },
  {
   "cell_type": "code",
   "execution_count": null,
   "id": "04dd809c",
   "metadata": {},
   "outputs": [],
   "source": []
  },
  {
   "cell_type": "code",
   "execution_count": null,
   "id": "35d089ff",
   "metadata": {},
   "outputs": [],
   "source": []
  },
  {
   "cell_type": "markdown",
   "id": "bb668c58",
   "metadata": {},
   "source": [
    "<h3 style=\"color:brown\">Points d'intérêt</h3>\n",
    "\n",
    "- <span style=\"color:brown\">les différents sons ont la même __hauteur__ : la hauteur d'un son est déterminée par la fréquence de la raie du fondamental dans le spectre du son.</spawn>\n",
    "- <span style=\"color:brown\">Les sons écoutés ont un __timbre__ différent : le timbre est ce qui fait qu'on distingue un son de piano, de trompette, de harpe... ou une voix humaine parmis d'autres voix. \n",
    "Le __timbre__ d'un son est déterminé par les __amplitudes des raies harmoniques__ contenues dans le spectre du son.\n",
    "</spawn>"
   ]
  },
  {
   "cell_type": "markdown",
   "id": "83d8d76c",
   "metadata": {},
   "source": [
    "### 2.2 $-$ Visualisation dans le domaine temporel"
   ]
  },
  {
   "cell_type": "markdown",
   "id": "870a0a53",
   "metadata": {},
   "source": [
    "<span style=\"color:Green\">Utiliser la fonction `wav_read` pour lire les fichiers du dossier WAV (si besoin, l'aide sur la fonction `wav_read` est [ici](tools/scipy_wav.ipynb#wav_read)). Le tableau __ndarray__ des valeurs lues possède 2 colonnes : voie Gauche et voie Droite.</spawn><br>\n",
    "\n",
    "<span style=\"color:Green\">Tracer l'allure temporelle des signaux avec la fonction `plot_sig_ech` du module `tools` en lui passant :<br>\n",
    "    - les _arguments positionnels_ : période d'échantillonnage et tableau des valeurs lues<br>\n",
    "    - l'_argument nommé_ `title=\"titre bien choisi !\"`.</spawn> "
   ]
  },
  {
   "cell_type": "code",
   "execution_count": null,
   "id": "d0e59343",
   "metadata": {},
   "outputs": [],
   "source": [
    "help(plot_sig_ech)"
   ]
  },
  {
   "cell_type": "code",
   "execution_count": null,
   "id": "ce8f7200",
   "metadata": {},
   "outputs": [],
   "source": []
  },
  {
   "cell_type": "code",
   "execution_count": null,
   "id": "df4e78c7",
   "metadata": {},
   "outputs": [],
   "source": []
  },
  {
   "cell_type": "markdown",
   "id": "63a8bf3a",
   "metadata": {},
   "source": [
    "<h3 style=\"color:brown\">Points d'intérêt</h3>\n",
    "\n",
    "- <span style=\"color:brown\">La visualisation des sons dans le domaine temporel montre l'__enveloppe temporelle__ qui caractérise leur dynamique : pour les sons de piano et de clavecin, on distingue une __attaque brève__, suivie d'une __descente douce__.</spawn>\n",
    "- <span style=\"color:brown\">L'enveloppe temporelle des sons fait partie des caractéristiques acoustiques qui nous permet de distinguer des sons différents.</spawn>"
   ]
  },
  {
   "cell_type": "markdown",
   "id": "f4719efc",
   "metadata": {},
   "source": [
    "### 2.3 $-$ Analyse spectrale"
   ]
  },
  {
   "cell_type": "markdown",
   "id": "7b9d721b",
   "metadata": {},
   "source": [
    "#### Fréquence d'échantilonnage\n",
    "\n",
    "- <span style=\"color:Green\">Vérifier simplement que la fréquence d'échantilonnage des sons lus est la même, égale à 44100 Hz.</spawn>\n",
    "- <span style=\"color:Green\">Nommer `Fe` la fréquence d'échantillonnage, et définir `Te` la période d'échantilonnage associée.</spawn>"
   ]
  },
  {
   "cell_type": "code",
   "execution_count": null,
   "id": "0edffb90",
   "metadata": {},
   "outputs": [],
   "source": []
  },
  {
   "cell_type": "code",
   "execution_count": null,
   "id": "71500023",
   "metadata": {},
   "outputs": [],
   "source": []
  },
  {
   "cell_type": "markdown",
   "id": "9526b183",
   "metadata": {},
   "source": [
    "#### Tracé des spectres d'amplitude"
   ]
  },
  {
   "cell_type": "markdown",
   "id": "39944dfe",
   "metadata": {},
   "source": [
    "<span style=\"color:Green\">En reprenant le travail du TP précédent, pour chacun des sons _piano_ et _clavecin_ :</spawn>\n",
    "- <span style=\"color:Green\">calculer `X`, la transformée de Fourier avec la fonction `rfft` (déjà importée du module __numpy.fft__), puis `A`, le spectre d'amplitude normalisé (divisé par la valeur max).</spawn>\n",
    "- <span style=\"color:Green\">utiliser la fonction `plot_spectre_amplitude` du module __tools__ pour tracer le spectre d'amplitude normalisé, en lui passant :<br>\n",
    "    - les *arguments __positionnels__* : _le pas en fréquence (delta_f)_ et le _spectre d'amplitude_,\n",
    "    - les _arguments __nommés___ : `f_max=10000`, `plot_harmonic=(15, 500)` et `title=\"titre bien choisi !\"`.</spawn>\n",
    "    \n",
    "<span style=\"color:Green\">La fonction `plot_spectre_amplitude` appelée avec l'argument `plot_harmonic=(n1, n2)` renvoit la liste des fréquences et la liste des amplitudes des `n1` harmoniques trouvées. Le paramètre `n2` indique le nombre de points pris en compte de part et d'autre de la position théorique des harmoniques pour trouver la raie d'amplitude maximale correspondant aux harmoniques réellement présentes.</spawn>\n",
    "\n",
    "<span style=\"color:Green\">Pour la suite du TP, il est utile de donner un nom aux deux listes renvoyées par la fonction `plot_spectre_amplitude` : par exemple `freq_p` et `pic_p` pour le son de piano, et `freq_c` et `pic_c` pour le clavecin.</spawn>"
   ]
  },
  {
   "cell_type": "code",
   "execution_count": null,
   "id": "38167b5e",
   "metadata": {},
   "outputs": [],
   "source": [
    "help(plot_spectre_amplitude)"
   ]
  },
  {
   "cell_type": "code",
   "execution_count": null,
   "id": "d1d00a60",
   "metadata": {
    "scrolled": false
   },
   "outputs": [],
   "source": []
  },
  {
   "cell_type": "markdown",
   "id": "1843b9d8",
   "metadata": {},
   "source": [
    "<h3 style=\"color:brown\">Points d'intérêt</h3>\n",
    "\n",
    "<span style=\"color:brown\"> - On constate bien sur les spectres la présence de la __raie fondamentale__ vers 440 Hz, qui donne la __hauteur__ du son.<br></spawn>\n",
    "<span style=\"color:brown\"> - Chacun des spectres montre des amplitudes des harmoniques différentes correspondant au __timbre__ propre à chacun des sons.</spawn>"
   ]
  },
  {
   "cell_type": "markdown",
   "id": "27d20fb7",
   "metadata": {},
   "source": [
    "Dans la suite de ce TP, on propose de modifier un son pur sinusoïdal à 440 Hz pour lui donner un timbre de _piano_, de _guitare_ ou de _clavecin_."
   ]
  },
  {
   "cell_type": "markdown",
   "id": "5df7165a",
   "metadata": {},
   "source": [
    "## 3 $-$ Créer un son pur (sinusoïdal) et modifier son timbre<a name=\"3\"></a>"
   ]
  },
  {
   "cell_type": "markdown",
   "id": "f7d2d9e2",
   "metadata": {},
   "source": [
    "On travaille avec la fréquence d'échantilonnage du standard HIFI, égale à 44100 Hz :"
   ]
  },
  {
   "cell_type": "code",
   "execution_count": null,
   "id": "36ffff46",
   "metadata": {},
   "outputs": [],
   "source": [
    "Fe = 44100\n",
    "Te = 1/Fe\n",
    "print(f\"Fe = {Fe} Hz, Te = {Te*1000:.3f} ms\")"
   ]
  },
  {
   "cell_type": "markdown",
   "id": "782b36bf",
   "metadata": {},
   "source": [
    "## 3.1 $-$ Son pur sinusoïdal"
   ]
  },
  {
   "cell_type": "markdown",
   "id": "5c092f37",
   "metadata": {},
   "source": [
    "On reprend le le signal sinusoïdal déjà manipulé dans le TP précédent : $$x(t) = \\displaystyle{\\sin\\left( 2\\pi F_s t\\right)} = \\displaystyle{\\sin\\left(\\frac{2\\pi t}{T_s}\\right)}$$ de période $T_s$ défini à l'aide de la fonction `sin` du module *numpy* :"
   ]
  },
  {
   "cell_type": "code",
   "execution_count": null,
   "id": "1e145d54",
   "metadata": {},
   "outputs": [],
   "source": [
    "def x(t, T):\n",
    "    return np.sin(2*pi*t/T)"
   ]
  },
  {
   "cell_type": "markdown",
   "id": "bc88a90b",
   "metadata": {},
   "source": [
    "<span style=\"color:Brown\"> $\\leadsto$  Grâce à la *vectorisation* de la fonction `np.sin`, le paramètre `t` peut-être un simple scalaire ou un tableau `np.ndarray` de valeurs temporelles.</span>"
   ]
  },
  {
   "cell_type": "markdown",
   "id": "64684bcc",
   "metadata": {},
   "source": [
    "### Création du son pur à 440 Hz\n",
    "\n",
    "- <span style=\"color:Green\">Définir :</span>\n",
    "    - <span style=\"color:Green\">`Fs` la fréquence du signal sinus, égale à 440 Hz, et `Ts` la période correspondante.</spawn>\n",
    "    - <span style=\"color:Green\">`D` la durée du signal, égale à 2 secondes.</span>\n",
    "    - <span style=\"color:Green\">`t_ech` le vecteur des instants d'échantillonnage allant de 0 à `D` **inclus**, par pas de `Te` (*indications* : utiliser [np.arange](https://numpy.org/doc/stable/reference/generated/numpy.arange.html), `D` et `Te`).</span>\n",
    "    - <span style=\"color:Green\">`N` le nombre d'éléments de `t_ech`.</span>"
   ]
  },
  {
   "cell_type": "code",
   "execution_count": null,
   "id": "eca8debe",
   "metadata": {},
   "outputs": [],
   "source": []
  },
  {
   "cell_type": "markdown",
   "id": "1c3b889a",
   "metadata": {},
   "source": [
    "- <span style=\"color:Green\">Faire afficher `Fs`en Hertz, `Ts` en milli-seconde, `D` en seconde et `N`, ainsi que la première et la dernière valeur de `t_ech`</span><br>\n",
    " <span style=\"color:Green\">$\\leadsto$ Attention à bien maîtriser __le nombre de chiffres significatifs__ pour les valeurs de type __float__ en utilisant un _f-string_...</spawn>"
   ]
  },
  {
   "cell_type": "code",
   "execution_count": null,
   "id": "4e0a6d15",
   "metadata": {},
   "outputs": [],
   "source": []
  },
  {
   "cell_type": "markdown",
   "id": "422789bc",
   "metadata": {},
   "source": [
    "- <span style=\"color:Green\">Calculer `sin440` le vecteur des valeurs de la fonction `x` pour les instants d'échantillonnage du vecteur `t_ech`.</span>"
   ]
  },
  {
   "cell_type": "code",
   "execution_count": null,
   "id": "9dda8f90",
   "metadata": {},
   "outputs": [],
   "source": []
  },
  {
   "cell_type": "markdown",
   "id": "22e26ad3",
   "metadata": {},
   "source": [
    "### Visualisation dans le domaine temporel"
   ]
  },
  {
   "cell_type": "markdown",
   "id": "baac84c4",
   "metadata": {},
   "source": [
    "- <span style=\"color:Green\">Trace l'allure temporelle du son pur avec la fonction `plot_sig_ech` du module `tools`.</spawn>"
   ]
  },
  {
   "cell_type": "code",
   "execution_count": null,
   "id": "a58c2c58",
   "metadata": {},
   "outputs": [],
   "source": []
  },
  {
   "cell_type": "markdown",
   "id": "b855ef16",
   "metadata": {},
   "source": [
    "<h3 style=\"color:brown\">Points d'intérêt</h3>\n",
    "\n",
    "- <span style=\"color:brown\"> On constate que l'enveloppe temporelle de ce son est constante : pas d'attaque ni de descente en terme d'amplitude<br></spawn>\n",
    "- <span style=\"color:brown\"> En zoomant sur une période du signal, on peut vérifier l'allure sinusoïdale du signal.</spawn>"
   ]
  },
  {
   "cell_type": "markdown",
   "id": "82aa6692",
   "metadata": {},
   "source": [
    "### Rendu sonore :"
   ]
  },
  {
   "cell_type": "markdown",
   "id": "cb129efb",
   "metadata": {},
   "source": [
    "Pour obtenir le rendu sonore, on écrit les valeurs du signal `sin440` dans un fichier WAV que l'on peut ensuite jouer avec la fonction `play`.\n",
    "\n",
    "Les valeurs écrites dans un fichier WAV doivent être des entiers sur 2 octets (16 bits) correspondant au type `np.int16`. L'expression `np.iinfo(np.int16)` montre les valeurs min et max d'un entier `np.int16` :"
   ]
  },
  {
   "cell_type": "code",
   "execution_count": null,
   "id": "b0f66f46",
   "metadata": {},
   "outputs": [],
   "source": [
    "np.iinfo(np.int16)"
   ]
  },
  {
   "cell_type": "markdown",
   "id": "801ea3fd",
   "metadata": {},
   "source": [
    "- <span style=\"color:Green\">Définir `amplitude`, égale à `np.iinfo(np.int16).max`</spawn>\n",
    "- <span style=\"color:Green\">Définir `data`, le signal `sin440` multiplié par `amplitude`.</spawn>\n",
    "- <span style=\"color:Green\">Utiliser la fonction `wav_write` pour écrire `data` dans le fichier \"sin440.wav\" (si besoin, l'aide sur la fonction `wav_write` est [ici](tools/scipy_wav.ipynb#wav_write)).<br>\n",
    "    _Indication_: les données `data` doivent être passées à la fonction `wav_write` sous la forme convertie en entiers de 16 bits : __`data.astype(np.int16)`__</spawn><br>\n",
    "- <span style=\"color:Green\">Écouter le fichier WAV obtenu."
   ]
  },
  {
   "cell_type": "code",
   "execution_count": null,
   "id": "ea9db3de",
   "metadata": {},
   "outputs": [],
   "source": []
  },
  {
   "cell_type": "markdown",
   "id": "4fecd96c",
   "metadata": {},
   "source": [
    "<h3 style=\"color:brown\">Points d'intérêt</h3>\n",
    "\n",
    "- <span style=\"color:brown\">Un son pur (ici à 440 Hz) n'pas très agréable à écouter ....<br></spawn>"
   ]
  },
  {
   "cell_type": "markdown",
   "id": "024e3913",
   "metadata": {},
   "source": [
    "### Modification de l'allure temporelle"
   ]
  },
  {
   "cell_type": "markdown",
   "id": "254cebc7",
   "metadata": {},
   "source": [
    "<span style=\"color:Green\">Pour se rapprocher de l'allure temporelle des sons ciblés (piano, clavecin...) , definir la fonction `weight` qui prend en argument un vecteur d'instants temporels, un temps `t1` et un entier `n` et qui échantillonne sur ces instants une enveloppe constituée :</spawn>\n",
    "- <span style=\"color:Green\">d'une attaque linéaire de 0 à 1 en `t1` secondes</spawn>\n",
    "- <span style=\"color:Green\">suivie d'une descente en exponentielle décroissante partant de 1, de la forme $\\displaystyle{\\left(e^{(t_1-t)}\\right)^n}$ .</spawn>\n",
    "\n",
    "![allure_enveloppe.png](img/allure_enveloppe.png)\n",
    "\n",
    "<span style=\"color:Green\">La fonction `weight` renvoie le tableau __ndarray__ des valeurs de l'enveloppe temporelle échantillonnées sur les instants de `t_ech`.</spawn>\n"
   ]
  },
  {
   "cell_type": "code",
   "execution_count": null,
   "id": "9c0f0381",
   "metadata": {},
   "outputs": [],
   "source": []
  },
  {
   "cell_type": "markdown",
   "id": "f617614a",
   "metadata": {},
   "source": [
    "- <span style=\"color:Green\">Définir le nouveau signal `sin440_w` égal au produit term à terme de `sin440` par `weight(t_ech, 30e-3, 3)` (_indication_: utiliser le produit `*`). Tracer son allure temporelle.</spawn>"
   ]
  },
  {
   "cell_type": "code",
   "execution_count": null,
   "id": "80217741",
   "metadata": {},
   "outputs": [],
   "source": []
  },
  {
   "cell_type": "markdown",
   "id": "59e4dbe2",
   "metadata": {},
   "source": [
    "- <span style=\"color:Green\">Comment précédemment, écrire le signal `sin440_w` multiplié par `amplitude` dans le fichier `\"sin440_w.wav\"` puis écouter le fichier WAV obtenu.</spawn>"
   ]
  },
  {
   "cell_type": "code",
   "execution_count": null,
   "id": "c6526bef",
   "metadata": {},
   "outputs": [],
   "source": []
  },
  {
   "cell_type": "markdown",
   "id": "125d58da",
   "metadata": {},
   "source": [
    "<h3 style=\"color:brown\">Points d'intérêt</h3>\n",
    "\n",
    "- <span style=\"color:brown\"> L'attaque et la décroissance de ce signal font bien penser au son produit par un instrument à corde pincée ou frappée</spawn>\n",
    "- <span style=\"color:brown\"> Mais le timbre n'est pas celui d'un piano ou d'un clavecin.....</spawn>"
   ]
  },
  {
   "cell_type": "markdown",
   "id": "1678aa22",
   "metadata": {},
   "source": [
    "[top](#top)"
   ]
  },
  {
   "cell_type": "markdown",
   "id": "48204d14",
   "metadata": {},
   "source": [
    "### 3.3 Modifier le timbre du son pur <a name=\"3.3\"> </a>"
   ]
  },
  {
   "cell_type": "markdown",
   "id": "a4fc66c7",
   "metadata": {},
   "source": [
    "Pour modifier le son pur pour qu'il resssemble à un son de piano ou de clavecin, il faut lui rajouter les harmoniques correspondant au timbre de ces instruments...\n",
    "\n",
    "Pour traiter la suite du TP, il faut utiliser les listes des amplitudes des harmoniques `pic_p` et `pic_c` obtenues au paragraphe 2.3 lors de l'analyse spectrale des sons de piano et clavecin."
   ]
  },
  {
   "cell_type": "markdown",
   "id": "b78c36f5",
   "metadata": {},
   "source": [
    "### Synthèse de Fourier"
   ]
  },
  {
   "cell_type": "markdown",
   "id": "2950af07",
   "metadata": {},
   "source": [
    "<span style=\"color:Green\">Définir la fonction `synthese_Fourier` qui prend en arguments :</spawn>\n",
    "- <span style=\"color:Green\">la fréquence du fondamental,</spawn>\n",
    "- <span style=\"color:Green\">le nombre d'harmonique à ajouter,</spawn>\n",
    "- <span style=\"color:Green\">la liste des amplitudes des harmoniques,</spawn>\n",
    "- <span style=\"color:Green\">le vecteur des instants d'échantillonnage.</spawn>\n",
    "    \n",
    "<span style=\"color:Green\">La fonction `synthese_Fourier` renvoie le calcul de : \n",
    "    $\\displaystyle{sin(2 \\pi F_1 t_j) + \\sum_{i=2}^{i=N+1} A_i sin(2 \\pi F_i t_j)}$,<br>\n",
    "    ($N$: nbre d'harmoniques (fondamental inclu), $A_i$ : amplitude harmonique i, et $F_i$ : fréquence harmonique i ($F_i=i*F_1$)<br>\n",
    "pour toutes les  valeurs $t_j$ du vecteur des instants d'échantillonnage.</spawn>"
   ]
  },
  {
   "cell_type": "code",
   "execution_count": null,
   "id": "3b3aee80",
   "metadata": {},
   "outputs": [],
   "source": []
  },
  {
   "cell_type": "markdown",
   "id": "2b88d0cd",
   "metadata": {},
   "source": [
    "### Son pur transformé en son de piano"
   ]
  },
  {
   "cell_type": "markdown",
   "id": "5a27701b",
   "metadata": {},
   "source": [
    "<span style=\"color:Green\">Définir `sin440_p`, la synthèse de Fourier du son de piano obtenue avec les amplitudes des 8 premières harmoniques `picp_p`. Normaliser les valeurs de `sin440_p`.</spawn>"
   ]
  },
  {
   "cell_type": "code",
   "execution_count": null,
   "id": "41ac2dfb",
   "metadata": {},
   "outputs": [],
   "source": []
  },
  {
   "cell_type": "markdown",
   "id": "3fb8dc2f",
   "metadata": {},
   "source": [
    "<span style=\"color:Green\">Multiplier `sin440_p` par `np.iinfo(np.int16).max`, puis par l'enveloppe `weight(t_ech, 5e-3, 3)` et enregistrer le signal obtenu dans le fichier `sin440_p.wav`.</spawn>"
   ]
  },
  {
   "cell_type": "code",
   "execution_count": null,
   "id": "4c4ab4de",
   "metadata": {},
   "outputs": [],
   "source": []
  },
  {
   "cell_type": "markdown",
   "id": "9a73524d",
   "metadata": {},
   "source": [
    "<span style=\"color:Green\">Jouer successivement :</spawn>\n",
    "- <span style=\"color:Green\">le son original du piano (`WAV/A4-piano-2s.wav`),</spawn>\n",
    "- <span style=\"color:Green\">le son sinus pur avec l'enveloppe temporelle (`sin440_w.wav`),</spawn>\n",
    "- <span style=\"color:Green\">le son créé par synthèse de Fourier (`sin440_p.wav`) :</spawn>"
   ]
  },
  {
   "cell_type": "code",
   "execution_count": null,
   "id": "ebc2b293",
   "metadata": {},
   "outputs": [],
   "source": []
  },
  {
   "cell_type": "markdown",
   "id": "cf780218",
   "metadata": {},
   "source": [
    "### Son pur transformé en son de clavecin"
   ]
  },
  {
   "cell_type": "markdown",
   "id": "a37d9472",
   "metadata": {},
   "source": [
    "<span style=\"color:Green\">Définir `sin440_c`, la synthèse de Fourier du son de clavecin obtenue avec les amplitudes des 15 premières harmoniques `picp_c`. Normaliser les valeurs de `sin440_c`.</spawn>"
   ]
  },
  {
   "cell_type": "code",
   "execution_count": null,
   "id": "f117375d",
   "metadata": {},
   "outputs": [],
   "source": []
  },
  {
   "cell_type": "markdown",
   "id": "41b198f1",
   "metadata": {},
   "source": [
    "<span style=\"color:Green\">Multiplier `sin440_c` par `np.iinfo(np.int16).max`, puis par l'enveloppe `weight(t_ech, 10e-3, 2)` et enregistrer le signal obtenu dans le fichier `sin440_c.wav`.</spawn>"
   ]
  },
  {
   "cell_type": "code",
   "execution_count": null,
   "id": "265a0c26",
   "metadata": {},
   "outputs": [],
   "source": []
  },
  {
   "cell_type": "markdown",
   "id": "cd3909f3",
   "metadata": {},
   "source": [
    "<span style=\"color:Green\">Jouer successivement :</spawn>\n",
    "- <span style=\"color:Green\">le son original du clavecin (`WAV/A4-clavecin-2s.wav`),</spawn>\n",
    "- <span style=\"color:Green\">le son sinus pur avec l'enveloppe temporelle (`sin440_w.wav`),</spawn>\n",
    "- <span style=\"color:Green\">le son de clavecin créé par synthèse de Fourier (`sin440_c.wav`) :</spawn>"
   ]
  },
  {
   "cell_type": "code",
   "execution_count": null,
   "id": "ddf21ae2",
   "metadata": {},
   "outputs": [],
   "source": []
  }
 ],
 "metadata": {
  "kernelspec": {
   "display_name": "Python 3 (ipykernel)",
   "language": "python",
   "name": "python3"
  },
  "language_info": {
   "codemirror_mode": {
    "name": "ipython",
    "version": 3
   },
   "file_extension": ".py",
   "mimetype": "text/x-python",
   "name": "python",
   "nbconvert_exporter": "python",
   "pygments_lexer": "ipython3",
   "version": "3.10.12"
  }
 },
 "nbformat": 4,
 "nbformat_minor": 5
}

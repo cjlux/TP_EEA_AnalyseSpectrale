{
 "cells": [
  {
   "cell_type": "markdown",
   "id": "4dfc834c",
   "metadata": {},
   "source": [
    "# Functions _read_ & _write_ du module __scipy.io.wavfile__"
   ]
  },
  {
   "cell_type": "markdown",
   "id": "7a904674",
   "metadata": {},
   "source": [
    "On importe les fonctions `read` et `write` du module __scipy.io.wavfile__ en les renommant `wav_read` et `wav_write` pour bien les distinguer :"
   ]
  },
  {
   "cell_type": "code",
   "execution_count": 2,
   "id": "be199e9e",
   "metadata": {},
   "outputs": [],
   "source": [
    "from scipy.io.wavfile import read as wav_read, write as wav_write"
   ]
  },
  {
   "cell_type": "markdown",
   "id": "e51f285a",
   "metadata": {},
   "source": [
    " ## wav_read <a id='wav_read'></a>"
   ]
  },
  {
   "cell_type": "code",
   "execution_count": 2,
   "id": "3c810359",
   "metadata": {},
   "outputs": [
    {
     "name": "stdout",
     "output_type": "stream",
     "text": [
      "Help on function read in module scipy.io.wavfile:\n",
      "\n",
      "read(filename, mmap=False)\n",
      "    Open a WAV file\n",
      "    \n",
      "    Return the sample rate (in samples/sec) and data from a WAV file.\n",
      "    \n",
      "    Parameters\n",
      "    ----------\n",
      "    filename : string or open file handle\n",
      "        Input wav file.\n",
      "    mmap : bool, optional\n",
      "        Whether to read data as memory-mapped.\n",
      "        Only to be used on real files (Default: False).\n",
      "    \n",
      "        .. versionadded:: 0.12.0\n",
      "    \n",
      "    Returns\n",
      "    -------\n",
      "    rate : int\n",
      "        Sample rate of wav file.\n",
      "    data : numpy array\n",
      "        Data read from wav file. Data-type is determined from the file;\n",
      "        see Notes.\n",
      "    \n",
      "    Notes\n",
      "    -----\n",
      "    This function cannot read wav files with 24-bit data.\n",
      "    \n",
      "    Common data types: [1]_\n",
      "    \n",
      "    =====================  ===========  ===========  =============\n",
      "         WAV format            Min          Max       NumPy dtype\n",
      "    =====================  ===========  ===========  =============\n",
      "    32-bit floating-point  -1.0         +1.0         float32\n",
      "    32-bit PCM             -2147483648  +2147483647  int32\n",
      "    16-bit PCM             -32768       +32767       int16\n",
      "    8-bit PCM              0            255          uint8\n",
      "    =====================  ===========  ===========  =============\n",
      "    \n",
      "    Note that 8-bit PCM is unsigned.\n",
      "    \n",
      "    References\n",
      "    ----------\n",
      "    .. [1] IBM Corporation and Microsoft Corporation, \"Multimedia Programming\n",
      "       Interface and Data Specifications 1.0\", section \"Data Format of the\n",
      "       Samples\", August 1991\n",
      "       http://www.tactilemedia.com/info/MCI_Control_Info.html\n",
      "    \n",
      "    Examples\n",
      "    --------\n",
      "    >>> from os.path import dirname, join as pjoin\n",
      "    >>> from scipy.io import wavfile\n",
      "    >>> import scipy.io\n",
      "    \n",
      "    Get the filename for an example .wav file from the tests/data directory.\n",
      "    \n",
      "    >>> data_dir = pjoin(dirname(scipy.io.__file__), 'tests', 'data')\n",
      "    >>> wav_fname = pjoin(data_dir, 'test-44100Hz-2ch-32bit-float-be.wav')\n",
      "    \n",
      "    Load the .wav file contents.\n",
      "    \n",
      "    >>> samplerate, data = wavfile.read(wav_fname)\n",
      "    >>> print(f\"number of channels = {data.shape[1]}\")\n",
      "    number of channels = 2\n",
      "    >>> length = data.shape[0] / samplerate\n",
      "    >>> print(f\"length = {length}s\")\n",
      "    length = 0.01s\n",
      "    \n",
      "    Plot the waveform.\n",
      "    \n",
      "    >>> import matplotlib.pyplot as plt\n",
      "    >>> import numpy as np\n",
      "    >>> time = np.linspace(0., length, data.shape[0])\n",
      "    >>> plt.plot(time, data[:, 0], label=\"Left channel\")\n",
      "    >>> plt.plot(time, data[:, 1], label=\"Right channel\")\n",
      "    >>> plt.legend()\n",
      "    >>> plt.xlabel(\"Time [s]\")\n",
      "    >>> plt.ylabel(\"Amplitude\")\n",
      "    >>> plt.show()\n",
      "\n"
     ]
    }
   ],
   "source": [
    "help(wav_read)"
   ]
  },
  {
   "cell_type": "markdown",
   "id": "84dc94f2",
   "metadata": {},
   "source": [
    "## wav_write <a id='wav_write'></a>"
   ]
  },
  {
   "cell_type": "code",
   "execution_count": 3,
   "id": "dd75fa4c",
   "metadata": {},
   "outputs": [
    {
     "name": "stdout",
     "output_type": "stream",
     "text": [
      "Help on function write in module scipy.io.wavfile:\n",
      "\n",
      "write(filename, rate, data)\n",
      "    Write a NumPy array as a WAV file.\n",
      "    \n",
      "    Parameters\n",
      "    ----------\n",
      "    filename : string or open file handle\n",
      "        Output wav file.\n",
      "    rate : int\n",
      "        The sample rate (in samples/sec).\n",
      "    data : ndarray\n",
      "        A 1-D or 2-D NumPy array of either integer or float data-type.\n",
      "    \n",
      "    Notes\n",
      "    -----\n",
      "    * Writes a simple uncompressed WAV file.\n",
      "    * To write multiple-channels, use a 2-D array of shape\n",
      "      (Nsamples, Nchannels).\n",
      "    * The bits-per-sample and PCM/float will be determined by the data-type.\n",
      "    \n",
      "    Common data types: [1]_\n",
      "    \n",
      "    =====================  ===========  ===========  =============\n",
      "         WAV format            Min          Max       NumPy dtype\n",
      "    =====================  ===========  ===========  =============\n",
      "    32-bit floating-point  -1.0         +1.0         float32\n",
      "    32-bit PCM             -2147483648  +2147483647  int32\n",
      "    16-bit PCM             -32768       +32767       int16\n",
      "    8-bit PCM              0            255          uint8\n",
      "    =====================  ===========  ===========  =============\n",
      "    \n",
      "    Note that 8-bit PCM is unsigned.\n",
      "    \n",
      "    References\n",
      "    ----------\n",
      "    .. [1] IBM Corporation and Microsoft Corporation, \"Multimedia Programming\n",
      "       Interface and Data Specifications 1.0\", section \"Data Format of the\n",
      "       Samples\", August 1991\n",
      "       http://www.tactilemedia.com/info/MCI_Control_Info.html\n",
      "    \n",
      "    Examples\n",
      "    --------\n",
      "    Create a 100Hz sine wave, sampled at 44100Hz.\n",
      "    Write to 16-bit PCM, Mono.\n",
      "    \n",
      "    >>> from scipy.io.wavfile import write\n",
      "    >>> samplerate = 44100; fs = 100\n",
      "    >>> t = np.linspace(0., 1., samplerate)\n",
      "    >>> amplitude = np.iinfo(np.int16).max\n",
      "    >>> data = amplitude * np.sin(2. * np.pi * fs * t)\n",
      "    >>> write(\"example.wav\", samplerate, data)\n",
      "\n"
     ]
    }
   ],
   "source": [
    "help(wav_write)"
   ]
  },
  {
   "cell_type": "code",
   "execution_count": null,
   "id": "0f58da13",
   "metadata": {},
   "outputs": [],
   "source": []
  }
 ],
 "metadata": {
  "kernelspec": {
   "display_name": "Python 3 (ipykernel)",
   "language": "python",
   "name": "python3"
  },
  "language_info": {
   "codemirror_mode": {
    "name": "ipython",
    "version": 3
   },
   "file_extension": ".py",
   "mimetype": "text/x-python",
   "name": "python",
   "nbconvert_exporter": "python",
   "pygments_lexer": "ipython3",
   "version": "3.10.13"
  }
 },
 "nbformat": 4,
 "nbformat_minor": 5
}

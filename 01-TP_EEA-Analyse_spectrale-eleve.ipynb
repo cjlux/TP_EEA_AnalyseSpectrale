{
 "cells": [
  {
   "cell_type": "markdown",
   "id": "fb99511a",
   "metadata": {},
   "source": [
    "V1.1 - 2023-03-20"
   ]
  },
  {
   "cell_type": "markdown",
   "id": "935704b2",
   "metadata": {},
   "source": [
    "# EEAI-Capteurs\n",
    "\n",
    "# Transformée de Fourier discrète <a name=\"top\"></a>\n",
    "\n",
    "## [ 1 - Présentation du TP](#1)\n",
    "## [ 2 - Travail \"à la main\"](#2)\n",
    "### [2.1 Décomposition en série de Fourier d'un signal carré périodique](#2.1)¶\n",
    "### [2.2 Modulation d'amplitude](#2.2)\n",
    "## [ 3 - Calculs Python avec numpy et numpy.fft](#3)\n",
    "### [3.1 Signal simple : signal sinusoïdal](#3.1)\n",
    "### [3.2 Signal carré](#3.2)\n",
    "## [ 4 - Théorème de Schanon et repliement spectral¶](#4)"
   ]
  },
  {
   "cell_type": "markdown",
   "id": "a58b54ff",
   "metadata": {},
   "source": [
    "## 1 $-$ Présentation du TP <a name=\"1\"></a>\n",
    "\n",
    "Acquis d'apprentissage visés :\n",
    "\n",
    "- Savoir calculer *à la main* la décomposition en série de Fourier d'un signal périodique simple.\n",
    "- Savoir calculer *à la main* le spectre d'amplitude d'un signal simple.\n",
    "- Savoir interpréter le spectre de raies d'un signal périodique discrétisé.\n",
    "- Savoir utiliser le module `numpy` pour calculer numériquement un signal discrétisé et tracer son allure temporelle.\n",
    "- Savoir utiliser la fonction `numpy.fft.rfft` pour calculer le spectre d'amplitude d'un signal discrétisé et tracer son pectre d'amplitude.\n",
    "- Connaître le théorème de Schannon et ses conséqunces sur le repliement spectral d'un signal échantillonné."
   ]
  },
  {
   "cell_type": "markdown",
   "id": "6908a1c1",
   "metadata": {},
   "source": [
    "[top](#top)"
   ]
  },
  {
   "cell_type": "markdown",
   "id": "fbc522fc",
   "metadata": {},
   "source": [
    "## 2 $-$ Travail \"à la main\" <a name=\"2\"></a>"
   ]
  },
  {
   "cell_type": "markdown",
   "id": "bc308bdf",
   "metadata": {},
   "source": [
    "### 2.1 Décomposition en série de Fourier d'un signal carré périodique <a name=\"2.1\"></a>\n",
    "\n",
    "Soit le signal périodique $x(t)$ défini par : \n",
    "$$\n",
    "x(t) = \\left\\{\n",
    "    \\begin{array}\\\\\n",
    "        \\ 1 & \\mbox{si} \\ t \\in \\left[ 0, \\frac{T}{2} \\right[ \\ (kT), k \\in \\mathbb{Z}\\\\\n",
    "        -1 & \\mbox{si } \\ t \\in \\left[ \\frac{T}{2}, T \\right[ \\ (kT)\\\\\n",
    "    \\end{array}\n",
    "\\right.\n",
    "$$\n",
    "avec $T=1/f$ et $f$ = 140 Hz.\n",
    "\n",
    "1. <span style=\"color:blue\">Calculer les coeffcients de la décomposition de $x(t)$ en série de Fourier complexe.<br>\n",
    "Tracer son spectre d'amplitude en vous limitant aux 10 premiers harmoniques.</span>\n",
    "\n",
    "1. <span style=\"color:blue\">On suppose que le signal est échantillonné à 1 kHz. Quelle est la conséquence sur le spectre précédent ?<BR>\n",
    "Compléter le graphe précédent en représentant les périodes voisines du spectre pour le signal échantillonné.</span>"
   ]
  },
  {
   "cell_type": "markdown",
   "id": "66b240e2",
   "metadata": {},
   "source": [
    "### 2.2 Modulation d'amplitude  <a name=\"2.2\"></a>\n",
    "\n",
    "Soit le signal $x(t) = A \\sin(\\omega_1 t)$ et la fonction de modulation $m(t) = \\sin(\\omega_2 t)$. La modulation d'amplitude consiste à réaliser le signal $y(t) = m(t).x(t)$. \n",
    "1. <span style=\"color:blue\">Par une identité trigonométrique, transformer $y(t)$ pour faire apparaître une somme de fonctions trigonométriques.</span>\n",
    "1. <span style=\"color:blue\">Tracer le spectre de $y(t)$.</span>"
   ]
  },
  {
   "cell_type": "markdown",
   "id": "9f3677ee",
   "metadata": {},
   "source": [
    "[top](#top)"
   ]
  },
  {
   "cell_type": "markdown",
   "id": "c5362ebc",
   "metadata": {},
   "source": [
    "## 3 $-$ Calculs Python avec `numpy` et `numpy.fft` <a name=\"3\"></a>"
   ]
  },
  {
   "cell_type": "code",
   "execution_count": 8,
   "id": "cdc6a975",
   "metadata": {},
   "outputs": [],
   "source": [
    "import numpy as np\n",
    "from math import pi, sqrt\n",
    "import matplotlib.pyplot as plt"
   ]
  },
  {
   "cell_type": "markdown",
   "id": "c1186225",
   "metadata": {},
   "source": [
    "La cellule ci-dessous permet à **matplotlib** de réaliser des courbes interactives dans le notebook.<br>\n",
    "$\\leadsto$ En cas d'erreur à l'exécution de la cellule vous pouvez remplacer **notebook** par **inline**."
   ]
  },
  {
   "cell_type": "code",
   "execution_count": 9,
   "id": "046b7701",
   "metadata": {
    "tags": []
   },
   "outputs": [],
   "source": [
    "%matplotlib notebook"
   ]
  },
  {
   "cell_type": "markdown",
   "id": "ee9dff6b",
   "metadata": {},
   "source": [
    "### 3.1 Signal simple : signal sinusoïdal <a name=\"3.1\"></a>"
   ]
  },
  {
   "cell_type": "markdown",
   "id": "004423f0",
   "metadata": {},
   "source": [
    "Soit le signal $x(t) = \\displaystyle{A \\sin\\left(\\frac{2\\pi t}{T}\\right)}$, de période $T$ et d'amplitude $A = 2.5$, défini à l'aide de la fonction `sin` du module *numpy* :"
   ]
  },
  {
   "cell_type": "code",
   "execution_count": 10,
   "id": "b2fd6b03",
   "metadata": {},
   "outputs": [],
   "source": [
    "def x(t, T):\n",
    "    return 2.5*np.sin(2*pi*t/T)"
   ]
  },
  {
   "cell_type": "markdown",
   "id": "d5303ab9",
   "metadata": {},
   "source": [
    "<span style=\"color:green\"> $\\leadsto$  Grâce à la *vectorisation* de la fonction `np.sin`, le paramètre `t` peut-être un simple scalaire ou un tableau `np.ndarray` de valeurs temporelles.</span>"
   ]
  },
  {
   "cell_type": "markdown",
   "id": "2b3ca5ed",
   "metadata": {},
   "source": [
    "##### Paramètres du signal sinusoïdal\n",
    "On défini :\n",
    "- `Fs`, la fréquence du signal sinus, égale à 125 Hz.\n",
    "- `Ts`, la période correspondante."
   ]
  },
  {
   "cell_type": "code",
   "execution_count": 11,
   "id": "c9c85c64",
   "metadata": {},
   "outputs": [
    {
     "data": {
      "text/plain": [
       "0.008"
      ]
     },
     "execution_count": 11,
     "metadata": {},
     "output_type": "execute_result"
    }
   ],
   "source": [
    "Ts"
   ]
  },
  {
   "cell_type": "code",
   "execution_count": 12,
   "id": "7829056d",
   "metadata": {},
   "outputs": [
    {
     "name": "stdout",
     "output_type": "stream",
     "text": [
      "Féquence Fs=125 Hz, période Ts=8.00 ms\n"
     ]
    }
   ],
   "source": [
    "Fs = 125  # fréquence signal en Hertz\n",
    "Ts = 1/Fs # période signal\n",
    "print(f\"Féquence Fs={Fs} Hz, période Ts={Ts*1000:.2f} ms\")"
   ]
  },
  {
   "cell_type": "markdown",
   "id": "697f9820",
   "metadata": {},
   "source": [
    "[top](#top)"
   ]
  },
  {
   "cell_type": "markdown",
   "id": "f76bf5c8",
   "metadata": {},
   "source": [
    "### a - Échantillonnage sur un nombre entier de périodes <a name=\"3.2-a\"></a>"
   ]
  },
  {
   "cell_type": "markdown",
   "id": "9160dab3",
   "metadata": {},
   "source": [
    "#### Définition des paramètres d'échantillonnage :\n",
    "- <span style=\"color:blue\">Définir `Fe`, la fréquence d'échantilonnage égale à 1000 Hz.</span>\n",
    "- <span style=\"color:blue\">Calculer `Te`, la période d'échantillonnage correspondante.</span>\n",
    "- <span style=\"color:blue\">Définir `D`, la durée d'échantilonnage ègale à $2\\,T_s$.</span>\n",
    "- <span style=\"color:blue\">Faire afficher `Fe` en Hertz, `Te` en milli-seconde et `D` en seconde.</span>"
   ]
  },
  {
   "cell_type": "code",
   "execution_count": null,
   "id": "9d554d38",
   "metadata": {},
   "outputs": [],
   "source": []
  },
  {
   "cell_type": "markdown",
   "id": "7a7e74c0",
   "metadata": {},
   "source": [
    "####  Définition du vecteur des instants d'échantillonnage \n",
    "- <span style=\"color:blue\">Définir `t_ech`, le vecteur des instants d'échantillonnage allant de 0 à `D` **exclu**, par pas de `Te` (*indications* : utiliser [np.arange](https://numpy.org/doc/stable/reference/generated/numpy.arange.html)).</span>\n",
    "- <span style=\"color:blue\">Définir `N`, le nombre d'éléments de `t_ech`.</span>\n",
    "- <span style=\"color:blue\">Faire afficher le vecteur `t_ech` et `N`.</span>"
   ]
  },
  {
   "cell_type": "code",
   "execution_count": null,
   "id": "469d5bdb",
   "metadata": {},
   "outputs": [],
   "source": []
  },
  {
   "cell_type": "markdown",
   "id": "1f59ba10",
   "metadata": {},
   "source": [
    "<span style=\"color:green\"> $\\leadsto$ les temps d'échantillonnage doivent aller jusqu'à 15 ms, et le vecteur `t_ech` doit avoir 16 éléments.</span> "
   ]
  },
  {
   "cell_type": "markdown",
   "id": "a8937c0f",
   "metadata": {},
   "source": [
    "[top](#top)"
   ]
  },
  {
   "cell_type": "markdown",
   "id": "98db80f9",
   "metadata": {},
   "source": [
    "### b - Allure temporelle du signal échantillonné <a name=\"3.2-b\"></a>\n",
    "\n",
    "#### Calcul du signal échantillonné"
   ]
  },
  {
   "cell_type": "markdown",
   "id": "e73338ea",
   "metadata": {},
   "source": [
    "- <span style=\"color:blue\">Calculer `x_ech` le vecteur des valeurs de `x` pour chaque instant d'échantillonnage du vecteur `t_ech`.</span>"
   ]
  },
  {
   "cell_type": "code",
   "execution_count": null,
   "id": "45f2b276",
   "metadata": {},
   "outputs": [],
   "source": []
  },
  {
   "cell_type": "markdown",
   "id": "ab837343",
   "metadata": {},
   "source": [
    "#### Affichage de l'allure temporelle\n",
    "\n",
    "La fonction `plot_sig_ech` du module `tools` utilse la fonction [stem](https://matplotlib.org/stable/api/_as_gen/matplotlib.pyplot.stem.html) du module `matplolib` pour tracer le signal échantillonné sous la forme de barres verticales."
   ]
  },
  {
   "cell_type": "code",
   "execution_count": 13,
   "id": "4e93a5e1",
   "metadata": {
    "tags": []
   },
   "outputs": [
    {
     "name": "stdout",
     "output_type": "stream",
     "text": [
      "Help on function plot_sig_ech in module tools:\n",
      "\n",
      "plot_sig_ech(t_ech, s_ech, title='Signal discrétisé', xlabel='Temps [s]', ylabel='Signal [Unité arbitraire]')\n",
      "    Trace les barres verticales montrant l'amplitude du signal aux temps échantillonnés.\n",
      "    \n",
      "    Arguments:\n",
      "      t_ech: le vecteur [t_0, t_1... t_N-1] des N instants d'échantillonnage du signal \n",
      "      s_ech: le vecteur [s(t_0), s(t_1)...] des valeurs du signal s aux temps échantillonnés\n",
      "      title: titre du tracé (défaut: 'Signal discrétisé').\n",
      "      xlabel: le label de l'axe du temps (defaut: 'Temps [s]')\n",
      "      ylabel: le label de l'axe Y (défaut: 'Signal [Unité arbitraire]')\n",
      "\n"
     ]
    }
   ],
   "source": [
    "from tools import plot_sig_ech\n",
    "help(plot_sig_ech)"
   ]
  },
  {
   "cell_type": "markdown",
   "id": "8913a27b",
   "metadata": {},
   "source": [
    "- <span style=\"color:blue\">Utiliser la fonction `plot_sig_ech` pour tracer le signal échantillonné</span>"
   ]
  },
  {
   "cell_type": "code",
   "execution_count": null,
   "id": "a81e565a",
   "metadata": {
    "scrolled": false,
    "tags": []
   },
   "outputs": [],
   "source": []
  },
  {
   "cell_type": "markdown",
   "id": "79962706",
   "metadata": {},
   "source": [
    "[top](#top)"
   ]
  },
  {
   "cell_type": "markdown",
   "id": "58a04370",
   "metadata": {},
   "source": [
    "### c - Domaine fréquentiel : FFT (*Fast Fourier Transform*) et spectre du signal"
   ]
  },
  {
   "cell_type": "markdown",
   "id": "37ac9e44",
   "metadata": {},
   "source": [
    "- <span style=\"color:blue\">Utiliser la fonction `rfft` du module `numpy.fft` pour calculer `X`, la FFT du signal `x` <br>\n",
    "(cf page https://numpy.org/doc/stable/reference/generated/numpy.fft.rfft.html)</span>\n",
    "- <span style=\"color:blue\">Calculer le **spectre d'amplitude** `A` égal au module des éléments de `X` multiplié par 2 et divisé par $N$ ($N$ : nbre d'échantillons temporels).<br>\n",
    "(Indication : la fonction [np.absolute](https://numpy.org/doc/stable/reference/generated/numpy.absolute.html) permet de calculer le module d'un vecteur complexe, élément par élément (*element wise*))</span>\n",
    "- <span style=\"color:blue\">Faire afficher A.</span>"
   ]
  },
  {
   "cell_type": "code",
   "execution_count": null,
   "id": "4a6c139f",
   "metadata": {
    "tags": []
   },
   "outputs": [],
   "source": []
  },
  {
   "cell_type": "markdown",
   "id": "cabebe1e",
   "metadata": {},
   "source": [
    "- <span style=\"color:blue\">combien y-a-t-il de valeur dans la FFT ? Pouvez-vous l'expliquer ?</span>\n",
    "- <span style=\"color:blue\">que représente A[0] ?</span>"
   ]
  },
  {
   "cell_type": "markdown",
   "id": "f4ffe7a2",
   "metadata": {},
   "source": [
    "[*votre réponse ici...*]<br>\n"
   ]
  },
  {
   "cell_type": "markdown",
   "id": "2910b265",
   "metadata": {},
   "source": [
    "- <span style=\"color:blue\">Calculer la résolution en fréquence `delta_f` et vérifier que sa valeur est 62.5 Hz.</span>"
   ]
  },
  {
   "cell_type": "code",
   "execution_count": null,
   "id": "9ed92113",
   "metadata": {},
   "outputs": [],
   "source": []
  },
  {
   "cell_type": "markdown",
   "id": "bbf456a9",
   "metadata": {},
   "source": [
    "- <span style=\"color:blue\">Calculer `f_ech`, le vecteur des fréquences discrètes de la FFT en utilisant [np.arange](nmpy.org/doc/stable/reference/generated/numpy.arange.html), `len(X)` et `delta_f`.</span>\n",
    "- <span style=\"color:blue\">Vérifier que la dernière valeur de `f_ech` est bien `Fe/2`</span>"
   ]
  },
  {
   "cell_type": "code",
   "execution_count": null,
   "id": "2a447e38",
   "metadata": {},
   "outputs": [],
   "source": []
  },
  {
   "cell_type": "markdown",
   "id": "5157d522",
   "metadata": {},
   "source": [
    "#### Tracé du spectre d'amplitude\n",
    "\n",
    "La fonction `plot_spectre_amplitude` du module `tools` utilse la fonction [stem](https://matplotlib.org/stable/api/_as_gen/matplotlib.pyplot.stem.html) du module `matplolib` pour tracer le spectre d'amplitude du signal échantillonné sous la forme de barres verticales."
   ]
  },
  {
   "cell_type": "code",
   "execution_count": 14,
   "id": "78b9fa1a",
   "metadata": {
    "tags": []
   },
   "outputs": [
    {
     "name": "stdout",
     "output_type": "stream",
     "text": [
      "Help on function plot_spectre_amplitude in module tools:\n",
      "\n",
      "plot_spectre_amplitude(f_ech, spectre, title=\"Spectre d'amplitude\", nb_peak_printed=0)\n",
      "    Trace les raies discrètes du spectre d'amplitude d'un signal discrétisé.\n",
      "    \n",
      "    Arguments:\n",
      "      f_ech: le vecteur des fréquences discrètes\n",
      "      spectre: le vecteur des amplitude du spectre pour les fréquences discrètes.\n",
      "      title: titre du tracé (défaut: \"Spectre d'amplitude\").\n",
      "      nb_peaks_printed: nombre de pics affichés (fréquence et amplitude), défaut=0\n",
      "\n"
     ]
    }
   ],
   "source": [
    "from tools import plot_spectre_amplitude\n",
    "help(plot_spectre_amplitude)"
   ]
  },
  {
   "cell_type": "markdown",
   "id": "1d07c039",
   "metadata": {},
   "source": [
    "- <span style=\"color:blue\">Tracer le spectre d'amplitude du signal echnatillonné.</span>"
   ]
  },
  {
   "cell_type": "code",
   "execution_count": null,
   "id": "77826214",
   "metadata": {
    "tags": []
   },
   "outputs": [],
   "source": []
  },
  {
   "cell_type": "markdown",
   "id": "ce261081",
   "metadata": {},
   "source": [
    "- <span style=\"color:blue\">En utilisant la méthode `argmax` du vecteur `A`, faire afficher la fréquence et la valeur du plus grand pic du spectre</span>"
   ]
  },
  {
   "cell_type": "code",
   "execution_count": null,
   "id": "a5ddfdc3",
   "metadata": {
    "tags": []
   },
   "outputs": [],
   "source": []
  },
  {
   "cell_type": "markdown",
   "id": "3b64c265",
   "metadata": {},
   "source": [
    "- <span style=\"color:blue\">Comparer le spectre du signal échantillonné au spectre théorique ...</span>"
   ]
  },
  {
   "cell_type": "markdown",
   "id": "f672df64",
   "metadata": {},
   "source": [
    "[*votre réponse ici...*]<br>\n"
   ]
  },
  {
   "cell_type": "markdown",
   "id": "7543947c",
   "metadata": {},
   "source": [
    "[top](#top)"
   ]
  },
  {
   "cell_type": "markdown",
   "id": "3d8ed624",
   "metadata": {},
   "source": [
    "#### e - Échantillonnage sur une durée quelconque"
   ]
  },
  {
   "cell_type": "markdown",
   "id": "46768971",
   "metadata": {},
   "source": [
    "- <span style=\"color:blue\">Refaire les calculs, affichages et tracés précédents en modifiant la durée d'échantillonnage pour avoir un nombre __non entier__ de périodes du signal, par exemple : $D = 3.3\\,T_s$.</span>\n",
    "\n",
    "Vous pouvez utiliser la fonction `process_periodic_signal` du module `tools` pour refaire l'ensemble des calculs et affichages précédents, en passant comme paramètres (dans cet ordre) "
   ]
  },
  {
   "cell_type": "code",
   "execution_count": 15,
   "id": "dc5d6e75",
   "metadata": {},
   "outputs": [
    {
     "name": "stdout",
     "output_type": "stream",
     "text": [
      "Help on function process_periodic_signal in module tools:\n",
      "\n",
      "process_periodic_signal(x, Fs, Fe, D, plot_temporal=True, nb_peak_printed=0)\n",
      "    - Calcule le vecteur des temps discrets,\n",
      "    - Trace l'allure temporelle du signal discrétisé\n",
      "    - Calcule la FFT et le spectre d'amplitude du signal,\n",
      "    - Trace le spectre d'amplitude.\n",
      "    \n",
      "    Arguments :\n",
      "      x : fonction vectorisée définissant le signal périodique, qui doit prendre \n",
      "          2 arguments : le vecteur des instants d'échantillonage, et la période du signal.\n",
      "      Fs: fréquence du signal x en Hertz.\n",
      "      Fe: fréquence d'échantilonnage en Hertz.\n",
      "      D : durée de l'échantillonnage en secondes. \n",
      "      nb_peaks_printed: nombre de pics affichés (fréquence et amplitude), défaut=0\n",
      "    \n",
      "    Retrour:\n",
      "      renvoie t_ech, x_ech, f_ech, A\n",
      "        t_ech: vecteur des instants d'échantillonnage\n",
      "        x_ech: vecteur des valeur du signal échantillonné\n",
      "        f_ech: vecteur des fréquences discrètes\n",
      "        A: spectre d'amplitude du signal échantillonné\n",
      "\n"
     ]
    }
   ],
   "source": [
    "from tools import process_periodic_signal\n",
    "help(process_periodic_signal)"
   ]
  },
  {
   "cell_type": "markdown",
   "id": "70cbfbdc",
   "metadata": {},
   "source": [
    "_indication_ : si vous n'utilisez pas les données renvoyées par la fonction `process_periodic_signal`, vous pouvez mettre un caractère `;è à la fin de la ligne pour éviter l'afficahe des données renvoyées."
   ]
  },
  {
   "cell_type": "code",
   "execution_count": null,
   "id": "780297dc",
   "metadata": {},
   "outputs": [],
   "source": []
  },
  {
   "cell_type": "markdown",
   "id": "9104e581",
   "metadata": {},
   "source": [
    "- <span style=\"color:blue\">Que constatez-vous ?</span>"
   ]
  },
  {
   "cell_type": "markdown",
   "id": "0f00046b",
   "metadata": {},
   "source": [
    "[*votre réponse ici...*]<br>\n"
   ]
  },
  {
   "cell_type": "markdown",
   "id": "cbacec98",
   "metadata": {},
   "source": [
    "- <span style=\"color:blue\">Refaire le même travail en choisissant un $\\Delta f$ de 5 Hz (désactiver le tracé de l'allure temporelle).</span>"
   ]
  },
  {
   "cell_type": "code",
   "execution_count": null,
   "id": "17a32729",
   "metadata": {
    "scrolled": false
   },
   "outputs": [],
   "source": []
  },
  {
   "cell_type": "markdown",
   "id": "8b6e4423",
   "metadata": {},
   "source": [
    "- <span style=\"color:blue\">Refaire le même travail en choisissant une durée d'échantillonage $D = 11.6\\,T_s$ \n",
    "    (désactiver le tracé de l'allure temporelle).<br>\n",
    " Utiliser les variables `t_ech, x_ech, f_ech, A` pour nommer les données renvoyées par la fonction.</span>"
   ]
  },
  {
   "cell_type": "code",
   "execution_count": null,
   "id": "6780d8f1",
   "metadata": {
    "scrolled": false
   },
   "outputs": [],
   "source": []
  },
  {
   "cell_type": "markdown",
   "id": "95dd9215",
   "metadata": {},
   "source": [
    "- <span style=\"color:blue\">Vérifier que l'on peut retrouver l'amplitude du signal en calculant $\\displaystyle{\\sqrt{\\sum_i{A_i^2}}}$."
   ]
  },
  {
   "cell_type": "code",
   "execution_count": null,
   "id": "fcb16139",
   "metadata": {},
   "outputs": [],
   "source": []
  },
  {
   "cell_type": "markdown",
   "id": "d0106a3b",
   "metadata": {},
   "source": [
    "[top](#top)"
   ]
  },
  {
   "cell_type": "markdown",
   "id": "0453b5cb",
   "metadata": {},
   "source": [
    "### 3.2 Signal carré <a name=\"3.2\"> </a>"
   ]
  },
  {
   "cell_type": "markdown",
   "id": "93ed5151",
   "metadata": {
    "tags": []
   },
   "source": [
    "On s'intéresse maintenant à un signal carré que l'on définiera à partir de la fonction `square` du module `scipy.signal`.<br>\n",
    "Si le module `scipy` n'est pas installé dans votre environnement Python **minfo** vous pouvez l'installer avec la cellule ci-dessous :"
   ]
  },
  {
   "cell_type": "code",
   "execution_count": 16,
   "id": "55e80ebe",
   "metadata": {
    "tags": []
   },
   "outputs": [
    {
     "name": "stdout",
     "output_type": "stream",
     "text": [
      "Requirement already satisfied: scipy in /home/jlc/work/miniconda3/envs/minfo/lib/python3.6/site-packages (1.5.4)\n",
      "Requirement already satisfied: numpy>=1.14.5 in /home/jlc/work/miniconda3/envs/minfo/lib/python3.6/site-packages (from scipy) (1.19.5)\n"
     ]
    }
   ],
   "source": [
    "!pip install scipy"
   ]
  },
  {
   "cell_type": "markdown",
   "id": "68f84ca1",
   "metadata": {},
   "source": [
    "On garde la même fréquence d'échantillonnage que précédement :"
   ]
  },
  {
   "cell_type": "code",
   "execution_count": 17,
   "id": "2276b03d",
   "metadata": {
    "tags": []
   },
   "outputs": [
    {
     "ename": "NameError",
     "evalue": "name 'Fe' is not defined",
     "output_type": "error",
     "traceback": [
      "\u001b[0;31m---------------------------------------------------------------------------\u001b[0m",
      "\u001b[0;31mNameError\u001b[0m                                 Traceback (most recent call last)",
      "\u001b[0;32m<ipython-input-17-c1b83644b9a9>\u001b[0m in \u001b[0;36m<module>\u001b[0;34m\u001b[0m\n\u001b[0;32m----> 1\u001b[0;31m \u001b[0mprint\u001b[0m\u001b[0;34m(\u001b[0m\u001b[0;34mf\"Fréquence éch. Fe = {Fe} Hz, période Te = {Te*1000} ms\"\u001b[0m\u001b[0;34m)\u001b[0m\u001b[0;34m\u001b[0m\u001b[0;34m\u001b[0m\u001b[0m\n\u001b[0m",
      "\u001b[0;31mNameError\u001b[0m: name 'Fe' is not defined"
     ]
    }
   ],
   "source": [
    "print(f\"Fréquence éch. Fe = {Fe} Hz, période Te = {Te*1000} ms\")"
   ]
  },
  {
   "cell_type": "markdown",
   "id": "f603c5f2",
   "metadata": {},
   "source": [
    "#### Définition du signal carré\n",
    "La fonction [square](https://docs.scipy.org/doc/scipy-0.14.0/reference/generated/scipy.signal.square.html)\n",
    "du module `scipy.signal` définit un signal carré périodique de période égale $2\\pi$.<br>\n",
    "Pour en faire un signal carré de fréquence $F_c$ (période $T_c = 1/F_c$), il faut multiplier le temps par $2\\pi T_c$."
   ]
  },
  {
   "cell_type": "markdown",
   "id": "264a89df",
   "metadata": {},
   "source": [
    "- <span style=\"color:blue\">Définir la fonction `carre` d'arguments `t` (vecteur de temps discrets) et `T` (période du signal) qui renvoie `square(2*pi*t/T)`.</span>\n",
    "- <span style=\"color:blue\">Définir `Fc`, la fréquence du signal carré, égale à 14 Hz et `Tc`, la période correspondante.</span>\n",
    "- <span style=\"color:blue\">Faire afficher `Fc`en Hertz et `Tc` en milli-seconde.</span>"
   ]
  },
  {
   "cell_type": "code",
   "execution_count": null,
   "id": "bc38e0c3",
   "metadata": {},
   "outputs": [],
   "source": []
  },
  {
   "cell_type": "markdown",
   "id": "1658f262",
   "metadata": {},
   "source": [
    "- <span style=\"color:blue\">Faire tracer l'allure temporelle et le spectre d'amplitude avec la fonction `process_periodic_signal` en réglant la durée d'échantillonnage pour avoir une résolution fréquentielle de 1 Hz et en demandant l'affichage des 10 premiers pics du spectre.</span>"
   ]
  },
  {
   "cell_type": "code",
   "execution_count": null,
   "id": "750b732d",
   "metadata": {
    "scrolled": false
   },
   "outputs": [],
   "source": []
  },
  {
   "cell_type": "markdown",
   "id": "3142173b",
   "metadata": {},
   "source": [
    "- <span style=\"color:blue\">Calculer et afficher les ampltitudes théoriques des 10 premières raies du spectre d'amplitude<br>\n",
    "    (utiliser une __f_string__ Python pour maîtriser le formatage des nombres affichés).</span>"
   ]
  },
  {
   "cell_type": "code",
   "execution_count": null,
   "id": "a696d251",
   "metadata": {},
   "outputs": [],
   "source": []
  },
  {
   "cell_type": "markdown",
   "id": "90e151b8",
   "metadata": {},
   "source": [
    "- <span style=\"color:blue\">Que constatez-vous ?</span>"
   ]
  },
  {
   "cell_type": "markdown",
   "id": "9f0deb1e",
   "metadata": {},
   "source": [
    "[*votre réponse ici...*]<br>\n"
   ]
  },
  {
   "cell_type": "markdown",
   "id": "c36f5c43",
   "metadata": {},
   "source": [
    "[top](#top)"
   ]
  },
  {
   "cell_type": "markdown",
   "id": "f39417ba",
   "metadata": {},
   "source": [
    "## 4 $-$ Théorème de Schannon et repliement spectral <a name=\"4\"></a>"
   ]
  },
  {
   "cell_type": "markdown",
   "id": "1354bef7",
   "metadata": {},
   "source": [
    "- <span style=\"color:blue\">Que dit le théorème de schannon ?"
   ]
  },
  {
   "cell_type": "markdown",
   "id": "3129c450",
   "metadata": {},
   "source": [
    "[*votre réponse ici...*]<br>\n"
   ]
  },
  {
   "cell_type": "markdown",
   "id": "103a6ef3",
   "metadata": {},
   "source": [
    "- <span style=\"color:blue\">Pour illustrer le phénomène de **repliement spectral**, faire tracer avec la fonction `process_periodic_signal` le spectre d'amplitude du signal $2.5\\sin(2\\pi F_s t)$ échantillonné à $F_e = 1000$ Hz sur une durée $D = 1/10$ s, pour des valeurs de $F_s$ égales à 400, 600 700 et 800 Hz."
   ]
  },
  {
   "cell_type": "code",
   "execution_count": null,
   "id": "7b07d740",
   "metadata": {},
   "outputs": [],
   "source": []
  },
  {
   "cell_type": "code",
   "execution_count": null,
   "id": "afe59ebf",
   "metadata": {},
   "outputs": [],
   "source": []
  },
  {
   "cell_type": "code",
   "execution_count": null,
   "id": "762bd19f",
   "metadata": {},
   "outputs": [],
   "source": []
  },
  {
   "cell_type": "code",
   "execution_count": null,
   "id": "6a3f359e",
   "metadata": {},
   "outputs": [],
   "source": []
  },
  {
   "cell_type": "markdown",
   "id": "b0203e73",
   "metadata": {},
   "source": [
    "- <span style=\"color:blue\">Qu'observe-t-on ?"
   ]
  },
  {
   "cell_type": "markdown",
   "id": "c1e5105b",
   "metadata": {},
   "source": [
    "[*votre réponse ici...*]<br>\n"
   ]
  },
  {
   "cell_type": "markdown",
   "id": "56a4779d",
   "metadata": {},
   "source": [
    "[top](#top)"
   ]
  }
 ],
 "metadata": {
  "kernelspec": {
   "display_name": "Python 3",
   "language": "python",
   "name": "python3"
  },
  "language_info": {
   "codemirror_mode": {
    "name": "ipython",
    "version": 3
   },
   "file_extension": ".py",
   "mimetype": "text/x-python",
   "name": "python",
   "nbconvert_exporter": "python",
   "pygments_lexer": "ipython3",
   "version": "3.6.12"
  }
 },
 "nbformat": 4,
 "nbformat_minor": 5
}
